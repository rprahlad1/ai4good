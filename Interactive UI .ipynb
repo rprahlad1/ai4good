{
 "cells": [
  {
   "cell_type": "code",
   "execution_count": 2,
   "metadata": {},
   "outputs": [],
   "source": [
    "from __future__ import print_function\n",
    "from ipywidgets import interact, interactive, fixed, interact_manual\n",
    "import ipywidgets as widgets \n",
    "import matplotlib.pyplot as plt"
   ]
  },
  {
   "cell_type": "code",
   "execution_count": 3,
   "metadata": {},
   "outputs": [
    {
     "data": {
      "text/html": [
       "<script type=\"text/javascript\">window.PlotlyConfig = {MathJaxConfig: 'local'};</script><script type=\"text/javascript\">if (window.MathJax) {MathJax.Hub.Config({SVG: {font: \"STIX-Web\"}});}</script><script>requirejs.config({paths: { 'plotly': ['https://cdn.plot.ly/plotly-latest.min']},});if(!window._Plotly) {require(['plotly'],function(plotly) {window._Plotly=plotly;});}</script>"
      ],
      "text/vnd.plotly.v1+html": [
       "<script type=\"text/javascript\">window.PlotlyConfig = {MathJaxConfig: 'local'};</script><script type=\"text/javascript\">if (window.MathJax) {MathJax.Hub.Config({SVG: {font: \"STIX-Web\"}});}</script><script>requirejs.config({paths: { 'plotly': ['https://cdn.plot.ly/plotly-latest.min']},});if(!window._Plotly) {require(['plotly'],function(plotly) {window._Plotly=plotly;});}</script>"
      ]
     },
     "metadata": {},
     "output_type": "display_data"
    },
    {
     "data": {
      "application/javascript": [
       "window.genUID = function() {\n",
       "    return 'xxxxxxxx-xxxx-4xxx-yxxx-xxxxxxxxxxxx'.replace(/[xy]/g, function(c) {\n",
       "        var r = Math.random()*16|0, v = c == 'x' ? r : (r&0x3|0x8);\n",
       "        return v.toString(16);\n",
       "    });\n",
       "};\n",
       "\n",
       "\n",
       "define('graphWidget', [\"@jupyter-widgets/base\"], function (widget) {\n",
       "\n",
       "    var GraphView = widget.DOMWidgetView.extend({\n",
       "        render: function(){\n",
       "            var that = this;\n",
       "\n",
       "            var graphId = window.genUID();\n",
       "            var loadingId = 'loading-'+graphId;\n",
       "\n",
       "\n",
       "            var _graph_url = that.model.get('_graph_url');\n",
       "\n",
       "            // variable plotlyDomain in the case of enterprise\n",
       "            var url_parts = _graph_url.split('/');\n",
       "            var plotlyDomain = url_parts[0] + '//' + url_parts[2];\n",
       "\n",
       "            if(!('plotlyDomains' in window)){\n",
       "                window.plotlyDomains = {};\n",
       "            }\n",
       "            window.plotlyDomains[graphId] = plotlyDomain;\n",
       "\n",
       "            // Place IFrame in output cell div `$el`\n",
       "            that.$el.css('width', '100%');\n",
       "            that.$graph = $(['<iframe id=\"'+graphId+'\"',\n",
       "                             'src=\"'+_graph_url+'.embed\"',\n",
       "                             'seamless',\n",
       "                             'style=\"border: none;\"',\n",
       "                             'width=\"100%\"',\n",
       "                             'height=\"600\">',\n",
       "                             '</iframe>'].join(' '));\n",
       "            that.$graph.appendTo(that.$el);\n",
       "\n",
       "            that.$loading = $('<div id=\"'+loadingId+'\">Initializing...</div>')\n",
       "                            .appendTo(that.$el);\n",
       "\n",
       "            // for some reason the 'width' is being changed in IPython 3.0.0\n",
       "            // for the containing `div` element. There's a flicker here, but\n",
       "            // I was unable to fix it otherwise.\n",
       "            setTimeout(function ()  {\n",
       "                if (IPYTHON_VERSION === '3') {\n",
       "                    $('#' + graphId)[0].parentElement.style.width = '100%';\n",
       "                }\n",
       "            }, 500);\n",
       "\n",
       "            // initialize communication with the iframe\n",
       "            if(!('pingers' in window)){\n",
       "                window.pingers = {};\n",
       "            }\n",
       "\n",
       "            window.pingers[graphId] = setInterval(function() {\n",
       "                that.graphContentWindow = $('#'+graphId)[0].contentWindow;\n",
       "                that.graphContentWindow.postMessage({task: 'ping'}, plotlyDomain);\n",
       "            }, 200);\n",
       "\n",
       "            // Assign a message listener to the 'message' events\n",
       "            // from iframe's postMessage protocol.\n",
       "            // Filter the messages by iframe src so that the right message\n",
       "            // gets passed to the right widget\n",
       "            if(!('messageListeners' in window)){\n",
       "                 window.messageListeners = {};\n",
       "            }\n",
       "\n",
       "            window.messageListeners[graphId] = function(e) {\n",
       "                if(_graph_url.indexOf(e.origin)>-1) {\n",
       "                    var frame = document.getElementById(graphId);\n",
       "\n",
       "                    if(frame === null){\n",
       "                        // frame doesn't exist in the dom anymore, clean up it's old event listener\n",
       "                        window.removeEventListener('message', window.messageListeners[graphId]);\n",
       "                        clearInterval(window.pingers[graphId]);\n",
       "                    } else if(frame.contentWindow === e.source) {\n",
       "                        // TODO: Stop event propagation, so each frame doesn't listen and filter\n",
       "                        var frameContentWindow = $('#'+graphId)[0].contentWindow;\n",
       "                        var message = e.data;\n",
       "\n",
       "                        if('pong' in message && message.pong) {\n",
       "                            $('#loading-'+graphId).hide();\n",
       "                            clearInterval(window.pingers[graphId]);\n",
       "                            that.send({event: 'pong', graphId: graphId});\n",
       "                        } else if (message.type==='hover' ||\n",
       "                                   message.type==='zoom'  ||\n",
       "                                   message.type==='click' ||\n",
       "                                   message.type==='unhover') {\n",
       "\n",
       "                            // click and hover events contain all of the data in the traces,\n",
       "                            // which can be a very large object and may take a ton of time\n",
       "                            // to pass to the python backend. Strip out the data, and require\n",
       "                            // the user to call get_figure if they need trace information\n",
       "                            if(message.type !== 'zoom') {\n",
       "                                for(var i in message.points) {\n",
       "                                    delete message.points[i].data;\n",
       "                                    delete message.points[i].fullData;\n",
       "                                }\n",
       "                            }\n",
       "                            that.send({event: message.type, message: message, graphId: graphId});\n",
       "                        } else if (message.task === 'getAttributes') {\n",
       "                            that.send({event: 'getAttributes', response: message.response});\n",
       "                        }\n",
       "                    }\n",
       "                }\n",
       "            };\n",
       "\n",
       "            window.removeEventListener('message', window.messageListeners[graphId]);\n",
       "            window.addEventListener('message', window.messageListeners[graphId]);\n",
       "\n",
       "        },\n",
       "\n",
       "        update: function() {\n",
       "            // Listen for messages from the graph widget in python\n",
       "            var jmessage = this.model.get('_message');\n",
       "            var message = JSON.parse(jmessage);\n",
       "\n",
       "            // check for duplicate messages\n",
       "            if(!('messageIds' in window)){\n",
       "                window.messageIds = {};\n",
       "            }\n",
       "\n",
       "            if(!(message.uid in window.messageIds)){\n",
       "                // message hasn't been received yet, do stuff\n",
       "                window.messageIds[message.uid] = true;\n",
       "\n",
       "                if (message.fadeTo) {\n",
       "                    this.fadeTo(message);\n",
       "                } else {\n",
       "                    var plot = $('#' + message.graphId)[0].contentWindow;\n",
       "                    plot.postMessage(message, window.plotlyDomains[message.graphId]);\n",
       "                }\n",
       "            }\n",
       "\n",
       "            return GraphView.__super__.update.apply(this);\n",
       "        },\n",
       "\n",
       "        /**\n",
       "         * Wrapper for jquery's `fadeTo` function.\n",
       "         *\n",
       "         * @param message Contains the id we need to find the element.\n",
       "         */\n",
       "        fadeTo: function (message) {\n",
       "            var plot = $('#' + message.graphId);\n",
       "            plot.fadeTo(message.duration, message.opacity);\n",
       "        }\n",
       "    });\n",
       "\n",
       "    // Register the GraphView with the widget manager.\n",
       "    return {\n",
       "        GraphView: GraphView\n",
       "    }\n",
       "\n",
       "});\n",
       "\n",
       "//@ sourceURL=graphWidget.js\n"
      ],
      "text/plain": [
       "<IPython.core.display.Javascript object>"
      ]
     },
     "metadata": {},
     "output_type": "display_data"
    }
   ],
   "source": [
    "import datetime\n",
    "import numpy as np\n",
    "import pandas as pd\n",
    "import plotly.graph_objs as go\n",
    "import plotly.plotly as py\n",
    "import plotly\n",
    "plotly.tools.set_credentials_file(username=\"rprahlad\", api_key=\"rUy38m0nRprXxPC5fWpP\")\n",
    "from plotly.offline import init_notebook_mode, iplot, plot\n",
    "init_notebook_mode(connected=True)\n",
    "from ipywidgets import widgets\n",
    "from IPython.display import display, clear_output, Image\n",
    "from plotly.widgets import GraphWidget"
   ]
  },
  {
   "cell_type": "markdown",
   "metadata": {},
   "source": [
    "# Welcome to the Interactive UI Notebook!\n",
    "We have 3 different types of visualizations you can play with. \n",
    "Simply scroll down to each one and enter your inputs!\n",
    "Please dont change any of the code, and be patient as some of them can take a couple minutes to run/update. "
   ]
  },
  {
   "cell_type": "markdown",
   "metadata": {},
   "source": [
    "### Visualizations \n",
    "#### 1. [Number of Alumni in Top Companies](#one)<br>\n",
    "#### 2. [Number of Promotions By University](#two)<br>\n",
    "#### 3. [Number of Hires in Top Tech Jobs by Universities by Year](#three)<br>"
   ]
  },
  {
   "cell_type": "code",
   "execution_count": 55,
   "metadata": {},
   "outputs": [],
   "source": [
    "non_berk_edu = pd.read_csv(\"non_berk_edu.csv\", low_memory=False)"
   ]
  },
  {
   "cell_type": "code",
   "execution_count": 56,
   "metadata": {},
   "outputs": [],
   "source": [
    "tech_berk = pd.read_csv(\"tech_berk.csv\", low_memory=False)\n",
    "tech_non_berk = pd.read_csv(\"tech_non_berk.csv\", low_memory=False)"
   ]
  },
  {
   "cell_type": "code",
   "execution_count": 6,
   "metadata": {},
   "outputs": [],
   "source": [
    "top_companies = ['Google','Facebook','Microsoft','Adobe','Apple','Apple Inc','Uber','Airbnb','Lyft',\n",
    "                 'Amazon','LinkedIn','eBay','IBM','Salesforce','Intel','Oracle','PayPal','Cisco Systems',\n",
    "                 'Cisco','Genentech','SAP','Nvidia','Intuit','VMWare','Tesla','Qualcomm Inc','Hewlett Packard',\n",
    "                 'HP','Hewlett Packard Enterprise','Oracle Corporation','Oracle America Inc.']\n",
    "\n",
    "top_companies = list(tech_berk[tech_berk['Company'].str.contains(\"Google|Nvidia|Intuit|Oracle|Cisco|PayPal|Paypal|Salesforce|LinkedIn|Linkedin|Qualcomm|Amazon|Microsoft|IBM|Airbnb|Uber|Facebook|Lyft|Tesla|Genentech|VMWare\")]['Company'].unique())\n",
    "top_companies.append('Hewlett Packard')\n",
    "top_companies.append('HP')\n",
    "top_companies.append('Intel')\n",
    "top_companies.append('Apple')\n",
    "top_companies.append('Apple Inc')"
   ]
  },
  {
   "cell_type": "code",
   "execution_count": 7,
   "metadata": {},
   "outputs": [],
   "source": [
    "def top_comp_counts(prop_table, group1, group2):\n",
    "    company1 = []\n",
    "    for i in prop_table['Person']:\n",
    "        count = 0\n",
    "        personcomp = group1[group1['ID'] == i]['Company'].unique()\n",
    "        for i in personcomp:\n",
    "            if i in top_companies:\n",
    "                count += 1\n",
    "        company1.append(count)\n",
    "    \n",
    "    company2 = []\n",
    "    for i in prop_table['Closest Match']:\n",
    "        count = 0\n",
    "        personcomp = group2[group2['ID'] == i]['Company'].unique()\n",
    "        for i in personcomp:\n",
    "            if i in top_companies:\n",
    "                count += 1\n",
    "        company2.append(count)\n",
    "    \n",
    "    prop_table[\"Company 1\"] = company1\n",
    "    prop_table['Company 2'] = company2\n",
    "    \n",
    "    return prop_table "
   ]
  },
  {
   "cell_type": "code",
   "execution_count": 8,
   "metadata": {},
   "outputs": [],
   "source": [
    "import operator\n",
    "features = ['Skill_1', 'Skill_1_Weight', 'Skill_2', 'Skill_2_Weight', \n",
    "            'Education', 'Company', 'Majors', 'Role', 'Elite_Flag']\n",
    "\n",
    "def knn(group1, group2):\n",
    "    #gets k most similar people to group1 from group2 based on calculated metric\n",
    "    \n",
    "    features = ['ID', 'Skill_1', 'Skill_1_Weight', 'Skill_2', 'Skill_2_Weight', \n",
    "            'Education','Majors', 'Role', 'Elite_Flag']\n",
    "    people = []\n",
    "    matches = []\n",
    "    \n",
    "    group1 = group1.groupby(\"ID\", as_index=False).last() #only keeps last instance of a person\n",
    "    group2 = group2.groupby(\"ID\", as_index=False).last() \n",
    "    \n",
    "    #group2 = group2.sample(len(group1))\n",
    "    group1.reset_index(drop = True, inplace = True)\n",
    "    group2.reset_index(drop = True, inplace = True)\n",
    "    \n",
    "    for p in range(len(group1)):\n",
    "        person_id = group1['ID'][p]\n",
    "        people.append(person_id)\n",
    "        #dict mapping each person in group2 to a \"score\" of similarity to person p from group1\n",
    "        scores = {}\n",
    "        for p2 in range(len(group2)):\n",
    "            #make sure both people have same education\n",
    "            if group2['Education'][p2] == group1['Education'][p]: \n",
    "                metric = 0\n",
    "                their_id = group2['ID'][p2]\n",
    "\n",
    "                if group2['Skill_1'][p2] == group1['Skill_1'][p]: #skill 1 , weight\n",
    "                    metric += 5\n",
    "                    metric += 1/abs(group2['Skill_1_Weight'][p2] - group1['Skill_1_Weight'][p])\n",
    "\n",
    "                if group2['Skill_2'][p2] == group1['Skill_2'][p]: #skill 2, weight \n",
    "                    metric += 5\n",
    "                    metric += 1/abs(group2['Skill_2_Weight'][p2] - group1['Skill_2_Weight'][p])\n",
    "\n",
    "                if group2['Elite_Flag'][p2] == group1['Elite_Flag'][p]: #Elite Flag bool\n",
    "                    metric += 3\n",
    "\n",
    "                if group2['Majors'][p2] == group1['Majors'][p]: #major\n",
    "                    metric += 3\n",
    "                    \n",
    "                if group2['Role'][p2] == group1['Role'][p]: #Role\n",
    "                    metric += 3\n",
    "\n",
    "                scores[their_id] = metric\n",
    "        \n",
    "        if person_id in scores.keys():\n",
    "            scores.pop(person_id)\n",
    "        closest_person = max(scores.items(), key=operator.itemgetter(1))[0]\n",
    "        matches.append(closest_person)        \n",
    "    \n",
    "    table = {'Person': people , 'Closest Match': matches }\n",
    "    return pd.DataFrame(table)\n",
    "      "
   ]
  },
  {
   "cell_type": "code",
   "execution_count": 9,
   "metadata": {},
   "outputs": [
    {
     "data": {
      "text/plain": [
       "171510"
      ]
     },
     "execution_count": 9,
     "metadata": {},
     "output_type": "execute_result"
    }
   ],
   "source": [
    "choices = non_berk_edu[\"Company\"].unique()\n",
    "len(choices)"
   ]
  },
  {
   "cell_type": "markdown",
   "metadata": {},
   "source": [
    "## Number of Alumni in Top Companies <a id='one'></a>"
   ]
  },
  {
   "cell_type": "code",
   "execution_count": 47,
   "metadata": {},
   "outputs": [],
   "source": [
    "textbox = widgets.Text(description=\"University:\", options = list(non_berk_edu['Company'].unique()),\n",
    "                        value= \"University\")\n",
    "\n",
    "out = widgets.Output()\n",
    "trace1 = go.Bar(x = [\"Berkeley\", textbox.value], y=[0,0]) \n",
    "g = go.FigureWidget(data=[trace1], \n",
    "                   layout = go.Layout(\n",
    "                   title=dict(\n",
    "                   text= \"Number of Alumni Working at Bay Area Top Tech Companies (Out of a Sample of 1000)\")))\n",
    "button = widgets.Button(description='Submit')"
   ]
  },
  {
   "cell_type": "code",
   "execution_count": 48,
   "metadata": {},
   "outputs": [],
   "source": [
    "def validate():\n",
    "    if textbox.value in non_berk_edu['Company'].unique():\n",
    "        valid.value = True\n",
    "        return True\n",
    "    \n",
    "    else:\n",
    "        valid.value = False\n",
    "        return False\n",
    "\n",
    "    \n",
    "def response(change):\n",
    "    if validate():\n",
    "        non_berk_edu = pd.read_csv('non_berk_edu.csv')\n",
    "        tech_non_berk = pd.read_csv('tech_non_berk.csv') \n",
    "        non_berk_edu = non_berk_edu[non_berk_edu[\"Company\"].isna() == False]\n",
    "        \n",
    "        un1_edu = non_berk_edu[(non_berk_edu['Company'].str.contains(str(textbox.value)))]\n",
    "        un1_edu_cleaned = un1_edu[((un1_edu['Skill_1'] != str(-1)) & (un1_edu['Skill_2'] != str(-1)))]\n",
    "        \n",
    "        ids = un1_edu_cleaned[\"ID\"].unique()\n",
    "        tech_un1 = tech_non_berk.loc[tech_non_berk[\"ID\"].isin(ids)]\n",
    "        prop_table = knn(tech_berk[0:1000], tech_un1[0:1000])\n",
    "        comp_counts = top_comp_counts(prop_table, tech_berk, tech_un1)  \n",
    "\n",
    "        x1 = sum(comp_counts[\"Company 1\"])\n",
    "        x2 = sum(comp_counts[\"Company 2\"])\n",
    "        with g.batch_update():\n",
    "            g.data[0].y = [x1, x2]\n",
    "            \n",
    "        \n",
    "        \n",
    "valid = widgets.Valid(valid=True)        \n",
    "textbox.observe(response, names=\"value\")\n",
    "button.on_click(response)       \n"
   ]
  },
  {
   "cell_type": "code",
   "execution_count": 49,
   "metadata": {},
   "outputs": [
    {
     "data": {
      "application/vnd.jupyter.widget-view+json": {
       "model_id": "4e0a5d134f814dfca3d28bf9fcf40943",
       "version_major": 2,
       "version_minor": 0
      },
      "text/plain": [
       "HBox(children=(Text(value='University', description='University:'), Button(description='Submit', style=ButtonS…"
      ]
     },
     "metadata": {},
     "output_type": "display_data"
    },
    {
     "data": {
      "application/vnd.jupyter.widget-view+json": {
       "model_id": "9aed596388f54d648a73e522937405a8",
       "version_major": 2,
       "version_minor": 0
      },
      "text/plain": [
       "FigureWidget({\n",
       "    'data': [{'type': 'bar', 'uid': 'd3ac20b1-ccd7-49c5-93fc-c735c32df00d', 'x': ['Berkeley', '…"
      ]
     },
     "metadata": {},
     "output_type": "display_data"
    }
   ],
   "source": [
    "container = widgets.HBox(children=[textbox, button, valid]) \n",
    "widgets.VBox(children=[container, g, out])\n",
    "display(container)\n",
    "display(g) \n"
   ]
  },
  {
   "cell_type": "markdown",
   "metadata": {},
   "source": [
    "## Number of Promotions By University <a id='two'></a>"
   ]
  },
  {
   "cell_type": "code",
   "execution_count": 57,
   "metadata": {},
   "outputs": [],
   "source": [
    "def promotion_counts(school):\n",
    "    \n",
    "    non_berk_edu = pd.read_csv('non_berk_edu.csv', low_memory=False)\n",
    "    non_berk_edu_cleaned = non_berk_edu[((non_berk_edu['Skill_1'] != str(-1))\n",
    "                            & (non_berk_edu['Skill_2'] != str(-1)))]\n",
    "    \n",
    "    non_berk_edu_cleaned = non_berk_edu_cleaned[non_berk_edu_cleaned[\"Company\"].isna() == False]\n",
    "    \n",
    "    if any(non_berk_edu_cleaned['Company'].str.contains(school)):\n",
    "        \n",
    "        tech_non_berk = pd.read_csv(\"tech_non_berk.csv\", low_memory=False)\n",
    "        tech_berk = pd.read_csv(\"tech_berk.csv\", low_memory=False)\n",
    "        berk_ids = np.random.choice(tech_berk['ID'].unique(), 1000, replace=False)\n",
    "        tech_berk = tech_berk.loc[tech_berk[\"ID\"].isin(berk_ids)]\n",
    "        \n",
    "        un1_edu = non_berk_edu_cleaned[(non_berk_edu_cleaned['Company'].str.contains(school))]\n",
    "        un1_edu_cleaned = un1_edu[((un1_edu['Skill_1'] != str(-1)) & (un1_edu['Skill_2'] != str(-1)))]\n",
    "\n",
    "        ids = np.random.choice(un1_edu_cleaned['ID'].unique(), 1000, replace=False)\n",
    "        tech_un1 = tech_non_berk.loc[tech_non_berk[\"ID\"].isin(ids)]\n",
    "        \n",
    "        total_counts = tech_un1.groupby(\"ID\").agg({\"Company\": pd.Series.count})\n",
    "        unique_counts = tech_un1.groupby(\"ID\").agg({\"Company\": pd.Series.nunique}) \n",
    "        promo_ct = (total_counts - unique_counts)['Company'].sum()\n",
    "        \n",
    "        total_countsb = tech_berk.groupby(\"ID\").agg({\"Company\": pd.Series.count})\n",
    "        unique_countsb = tech_berk.groupby(\"ID\").agg({\"Company\": pd.Series.nunique}) \n",
    "        promo_ctb = (total_countsb - unique_countsb)['Company'].sum()\n",
    "        \n",
    "        #Plotting (don't need rn)\n",
    "        ind = np.arange(500)\n",
    "        fig, ax = plt.subplots(figsize = (10,7))\n",
    "        nums = [promo_ctb, promo_ct]\n",
    "        ax.bar(['UC Berkeley', school],nums, color=[\"gold\",\"darkblue\"])\n",
    "        for index,data in enumerate(nums):\n",
    "            plt.text(x=index , y =data+1 , s=f\"{data}\" , fontdict=dict(fontsize=12))\n",
    "        plt.title(\"Counts of Promotions of Berkeley Alumni vs \" + school + \" Alumni\")\n",
    "        plt.xlabel(\"University\")\n",
    "        plt.ylabel(\"Count\")\n",
    "        plt.show()\n",
    "    else:\n",
    "        print(\"This dataset does not contain data for this university\")\n",
    "\n"
   ]
  },
  {
   "cell_type": "code",
   "execution_count": 58,
   "metadata": {},
   "outputs": [],
   "source": [
    "textbox = widgets.Text(description = \"University:\", options = list(non_berk_edu['Company'].unique()),\n",
    "                        value= \"University\")\n",
    "\n",
    "out = widgets.Output()\n",
    "\n",
    "trace1 = go.Bar(x = [\"Berkeley\", textbox.value], y=[0,0]) \n",
    "g = go.FigureWidget(data=[trace1], \n",
    "                   layout = go.Layout(\n",
    "                   title=dict(\n",
    "                   text= \"Number of Promotions of Alumni Working at Bay Area Top Tech Companies (Out of a Sample of 1000)\")))\n",
    "button = widgets.Button(description='Submit')\n"
   ]
  },
  {
   "cell_type": "code",
   "execution_count": 59,
   "metadata": {},
   "outputs": [],
   "source": [
    "def validate():\n",
    "    # print \"validating\"\n",
    "    if textbox.value in non_berk_edu['Company'].unique():\n",
    "        valid.value = True\n",
    "        return True\n",
    "    else:\n",
    "        valid.value = False \n",
    "        return False\n",
    "\n",
    "\n",
    "def response(change):\n",
    "    if validate():\n",
    "        \n",
    "        non_berk_edu = pd.read_csv('non_berk_edu.csv', low_memory=False)\n",
    "        non_berk_edu_cleaned = non_berk_edu[((non_berk_edu['Skill_1'] != str(-1))\n",
    "                            & (non_berk_edu['Skill_2'] != str(-1)))]\n",
    "    \n",
    "        non_berk_edu_cleaned = non_berk_edu_cleaned[non_berk_edu_cleaned[\"Company\"].isna() == False]\n",
    "        \n",
    "        tech_non_berk = pd.read_csv(\"tech_non_berk.csv\")\n",
    "        tech_berk = pd.read_csv(\"tech_berk.csv\")\n",
    "        berk_ids = np.random.choice(tech_berk['ID'].unique(), 1000, replace=False)\n",
    "        tech_berk = tech_berk.loc[tech_berk[\"ID\"].isin(berk_ids)]\n",
    "        \n",
    "        un1_edu = non_berk_edu_cleaned[(non_berk_edu_cleaned['Company'].str.contains(textbox.value))]\n",
    "        un1_edu_cleaned = un1_edu[((un1_edu['Skill_1'] != str(-1)) & (un1_edu['Skill_2'] != str(-1)))]\n",
    "\n",
    "        ids = np.random.choice(un1_edu_cleaned['ID'].unique(), 1000, replace=False)\n",
    "        tech_un1 = tech_non_berk.loc[tech_non_berk[\"ID\"].isin(ids)]\n",
    "        \n",
    "        total_counts = tech_un1.groupby(\"ID\").agg({\"Company\": pd.Series.count})\n",
    "        unique_counts = tech_un1.groupby(\"ID\").agg({\"Company\": pd.Series.nunique}) \n",
    "        promo_ct = (total_counts - unique_counts)['Company'].sum()\n",
    "        \n",
    "        total_countsb = tech_berk.groupby(\"ID\").agg({\"Company\": pd.Series.count})\n",
    "        unique_countsb = tech_berk.groupby(\"ID\").agg({\"Company\": pd.Series.nunique}) \n",
    "        promo_ctb = (total_countsb - unique_countsb)['Company'].sum()\n",
    "        \n",
    "\n",
    "        \n",
    "        x1 = promo_ctb\n",
    "        x2 = promo_ct\n",
    "        with g.batch_update():\n",
    "            g.data[0].y = [x1, x2]\n",
    "            #g.data[1]\n",
    "        \n",
    "        \n",
    "valid = widgets.Valid(valid=True)        \n",
    "textbox.observe(response, names=\"value\")\n",
    "button.on_click(response)       \n"
   ]
  },
  {
   "cell_type": "code",
   "execution_count": 60,
   "metadata": {},
   "outputs": [
    {
     "data": {
      "application/vnd.jupyter.widget-view+json": {
       "model_id": "a01fbbb27bd24b38bfb13ce46f50d76b",
       "version_major": 2,
       "version_minor": 0
      },
      "text/plain": [
       "HBox(children=(Text(value='University', description='University:'), HTML(value=''), Button(description='Submit…"
      ]
     },
     "metadata": {},
     "output_type": "display_data"
    },
    {
     "data": {
      "application/vnd.jupyter.widget-view+json": {
       "model_id": "c8ec957624794979a1adae62741d54dc",
       "version_major": 2,
       "version_minor": 0
      },
      "text/plain": [
       "FigureWidget({\n",
       "    'data': [{'type': 'bar', 'uid': '4888b3ba-bcf6-48e0-aa77-d3e674a5bba9', 'x': ['Berkeley', '…"
      ]
     },
     "metadata": {},
     "output_type": "display_data"
    }
   ],
   "source": [
    "container = widgets.HBox(children=[textbox, message, button, valid]) \n",
    "widgets.VBox(children=[container, g, out])\n",
    "display(container)\n",
    "display(g)\n"
   ]
  },
  {
   "cell_type": "markdown",
   "metadata": {},
   "source": [
    "## Number of Hires in Top Tech Jobs by Universities by Year <a id='three'></a> "
   ]
  },
  {
   "cell_type": "code",
   "execution_count": 51,
   "metadata": {},
   "outputs": [],
   "source": [
    "w1 = widgets.Checkbox(\n",
    "    value=False,\n",
    "    description='UC Berkeley',\n",
    "    disabled=False\n",
    ")\n",
    "\n",
    "w2 = widgets.Checkbox(\n",
    "    value=False,\n",
    "    description='SCU',\n",
    "    disabled=False\n",
    ")\n",
    "\n",
    "w3 = widgets.Checkbox(\n",
    "    value=False,\n",
    "    description='SJSU',\n",
    "    disabled=False\n",
    ")\n",
    "\n",
    "w4 = widgets.Checkbox(\n",
    "    value=False,\n",
    "    description='UC Davis',\n",
    "    disabled=False\n",
    ")\n",
    "\n",
    "w5 = widgets.Checkbox(\n",
    "    value=False,\n",
    "    description='Stanford',\n",
    "    disabled=False\n",
    ")\n",
    "\n",
    "dropdown = widgets.Dropdown(\n",
    "    options=[str(i) for i in np.arange(2000, 2019)],\n",
    "    value='2000',\n",
    "    description='Year',\n",
    "    disabled=False,\n",
    ")\n",
    "\n",
    "out = widgets.Output()\n",
    "message = widgets.HTML(value=\"\")"
   ]
  },
  {
   "cell_type": "code",
   "execution_count": 52,
   "metadata": {},
   "outputs": [],
   "source": [
    "#helper to get count of hires given university and year\n",
    "berk_edu = pd.read_csv(\"berk_edu.csv\")\n",
    "\n",
    "def get_hires(uni, year, month):\n",
    "    if uni == \"UC Berkeley\":\n",
    "        ids = berk_edu[\"ID\"].unique()\n",
    "        jobs = tech_berk[tech_berk[\"ID\"].isin(ids)]\n",
    "        jobs = jobs[jobs[\"Start_Date\"].str[0:4] == str(year)]  #filter by year\n",
    "        jobs = jobs[jobs[\"Start_Date\"].str[5:7] == month] #filter by month\n",
    "        top_jobs = jobs[jobs[\"Company\"].isin(top_companies)] #filter by top_companies\n",
    "    else: \n",
    "        \n",
    "        school = non_berk_edu[non_berk_edu[\"Company\"] == uni] #filter by school\n",
    "        ids = school[\"ID\"].unique()\n",
    "        jobs = tech_non_berk[tech_non_berk[\"ID\"].isin(ids)]\n",
    "        jobs = jobs[jobs[\"Start_Date\"].str[0:4] == str(year)]  #filter by year\n",
    "        jobs = jobs[jobs[\"Start_Date\"].str[5:7]== month]\n",
    "        top_jobs = jobs[jobs[\"Company\"].isin(top_companies)] #filter by top_companies\n",
    "\n",
    "    return len(top_jobs)        "
   ]
  },
  {
   "cell_type": "code",
   "execution_count": 53,
   "metadata": {},
   "outputs": [],
   "source": [
    "#user is able to select Universities, Year\n",
    "\n",
    "months = [\"01\", \"02\", \"03\", \"04\", \"05\", \"06\", \"07\", \"08\", \"09\", \"10\", \"11\", \"12\"]\n",
    "trace0 = go.Scatter(\n",
    "x = [\"Jan\", \"Feb\", \"Mar\", \"Apr\", \"Jun\", \"Jul\", \"Aug\", \"Sept\", \"Oct\", \"Nov\", \"Dec\"],\n",
    "y = [] , \n",
    "mode = 'lines',\n",
    "name = 'UC Berkeley')\n",
    "\n",
    "trace1 = go.Scatter(\n",
    "x = [\"Jan\", \"Feb\", \"Mar\", \"Apr\", \"Jun\", \"Jul\", \"Aug\", \"Sept\", \"Oct\", \"Nov\", \"Dec\"],\n",
    "y = [] , \n",
    "mode = 'lines',\n",
    "name = 'SCU')\n",
    "\n",
    "trace2 = go.Scatter(\n",
    "x = [\"Jan\", \"Feb\", \"Mar\", \"Apr\", \"Jun\", \"Jul\", \"Aug\", \"Sept\", \"Oct\", \"Nov\", \"Dec\"],\n",
    "y = [] , \n",
    "mode = 'lines',\n",
    "name = 'SJSU')\n",
    "\n",
    "trace3 = go.Scatter(\n",
    "x = [\"Jan\", \"Feb\", \"Mar\", \"Apr\", \"Jun\", \"Jul\", \"Aug\", \"Sept\", \"Oct\", \"Nov\", \"Dec\"],\n",
    "y = [] , \n",
    "mode = 'lines',\n",
    "name = 'UC Davis')\n",
    "\n",
    "trace4 = go.Scatter(\n",
    "x = [\"Jan\", \"Feb\", \"Mar\", \"Apr\", \"Jun\", \"Jul\", \"Aug\", \"Sept\", \"Oct\", \"Nov\", \"Dec\"],\n",
    "y = [] , \n",
    "mode = 'lines',\n",
    "name = 'Stanford')\n",
    "\n",
    "\n",
    "g3 = go.FigureWidget(data=[trace0, trace1, trace2, trace3, trace4], \n",
    "                   layout = go.Layout(\n",
    "                   title=dict(\n",
    "                   text= \"Number of Top Bay Area Company Hires from Different Universities by Month\" )))\n",
    "\n",
    "def response(change):\n",
    "    \n",
    "    with g3.batch_update():\n",
    "            if w1.value:\n",
    "                g3.data[0].y = [get_hires(\"UC Berkeley\", int(dropdown.value), i) for i in months]\n",
    "            else:\n",
    "                g3.data[0].y = []\n",
    "            \n",
    "            if w2.value:\n",
    "                g3.data[1].y = [get_hires(\"Santa Clara University\", int(dropdown.value), i) for i in months]\n",
    "            else:\n",
    "                g3.data[1].y = []\n",
    "            if w3.value:\n",
    "                g3.data[2].y = [get_hires(\"San Jose State University\", int(dropdown.value), i) for i in months]\n",
    "            else:\n",
    "                g3.data[2].y = []\n",
    "            if w4.value:\n",
    "                g3.data[3].y = [get_hires(\"UC Davis\", int(dropdown.value), i) for i in months]\n",
    "            else:\n",
    "                g3.data[3].y = []\n",
    "            if w5.value:\n",
    "                g3.data[4].y = [get_hires(\"Stanford University\", int(dropdown.value), i) for i in months]\n",
    "            else:\n",
    "                g3.data[4].y = []\n",
    "    \n",
    "\n",
    "dropdown.observe(response, names=\"value\")        "
   ]
  },
  {
   "cell_type": "code",
   "execution_count": 54,
   "metadata": {
    "scrolled": false
   },
   "outputs": [
    {
     "data": {
      "application/vnd.jupyter.widget-view+json": {
       "model_id": "ac2c05214d444839b63cf8e29f7e8d86",
       "version_major": 2,
       "version_minor": 0
      },
      "text/plain": [
       "HBox(children=(Dropdown(description='Year', options=('2000', '2001', '2002', '2003', '2004', '2005', '2006', '…"
      ]
     },
     "metadata": {},
     "output_type": "display_data"
    },
    {
     "data": {
      "application/vnd.jupyter.widget-view+json": {
       "model_id": "a82cab6d9677491c89925cafbad9f4bd",
       "version_major": 2,
       "version_minor": 0
      },
      "text/plain": [
       "FigureWidget({\n",
       "    'data': [{'mode': 'lines',\n",
       "              'name': 'UC Berkeley',\n",
       "              'type': 'scat…"
      ]
     },
     "metadata": {},
     "output_type": "display_data"
    }
   ],
   "source": [
    "container = widgets.HBox(children=[dropdown, message, w1, w5, w3, w4, w2]) #button, valid,\n",
    "widgets.VBox(children=[container, g3, out])\n",
    "display(container)\n",
    "display(g3)\n"
   ]
  },
  {
   "cell_type": "code",
   "execution_count": null,
   "metadata": {},
   "outputs": [],
   "source": []
  }
 ],
 "metadata": {
  "kernelspec": {
   "display_name": "Python 3",
   "language": "python",
   "name": "python3"
  },
  "language_info": {
   "codemirror_mode": {
    "name": "ipython",
    "version": 3
   },
   "file_extension": ".py",
   "mimetype": "text/x-python",
   "name": "python",
   "nbconvert_exporter": "python",
   "pygments_lexer": "ipython3",
   "version": "3.6.7"
  }
 },
 "nbformat": 4,
 "nbformat_minor": 2
}
